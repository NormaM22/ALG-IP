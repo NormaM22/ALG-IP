{
  "nbformat": 4,
  "nbformat_minor": 0,
  "metadata": {
    "colab": {
      "name": "Algoritmo_ALG-IP",
      "provenance": [],
      "collapsed_sections": [],
      "authorship_tag": "ABX9TyMlt39MDj0yfvhdK1KTVzcp",
      "include_colab_link": true
    },
    "kernelspec": {
      "name": "python3",
      "display_name": "Python 3"
    },
    "language_info": {
      "name": "python"
    }
  },
  "cells": [
    {
      "cell_type": "markdown",
      "metadata": {
        "id": "view-in-github",
        "colab_type": "text"
      },
      "source": [
        "<a href=\"https://colab.research.google.com/github/NormaM22/ALG-IP/blob/main/Algoritmo_ALG_IP.ipynb\" target=\"_parent\"><img src=\"https://colab.research.google.com/assets/colab-badge.svg\" alt=\"Open In Colab\"/></a>"
      ]
    },
    {
      "cell_type": "code",
      "source": [
        "import numpy as np\n",
        "from scipy.optimize import nnls\n",
        "import matplotlib.pyplot as plt"
      ],
      "metadata": {
        "id": "eqwu2hxM8kBx"
      },
      "execution_count": 13,
      "outputs": []
    },
    {
      "cell_type": "code",
      "source": [
        "# Matriz de transición A_T\n",
        "A_T=np.array([[0.95,0.04,0,0],[0.05,0.85,0,0],[0,0.1,1,0],[0,0.01,0,1]])\n",
        "\n",
        "print(\"A_T=\",A_T)"
      ],
      "metadata": {
        "id": "Muxd7VMw8BAT",
        "colab": {
          "base_uri": "https://localhost:8080/"
        },
        "outputId": "ae8fd1f6-a8c2-4a45-d276-16c559622fed"
      },
      "execution_count": 14,
      "outputs": [
        {
          "output_type": "stream",
          "name": "stdout",
          "text": [
            "A_T= [[0.95 0.04 0.   0.  ]\n",
            " [0.05 0.85 0.   0.  ]\n",
            " [0.   0.1  1.   0.  ]\n",
            " [0.   0.01 0.   1.  ]]\n"
          ]
        }
      ]
    },
    {
      "cell_type": "code",
      "source": [
        "# Obtención de muestra sintética X a partir de A_T y del vector de estado inicial x1:\n",
        "N=4;  # Número de elementos de la muestra X\n",
        "x1=np.array([[1],[0],[0],[0]])  \n",
        "\n",
        "X=np.zeros((N,4))              \n",
        "X[0]=np.transpose(x1)\n",
        "for i in range (N-1):\n",
        "  X[i+1]=np.dot(A_T,X[i])\n",
        "print(\"X=\",X)\n",
        "#print(X[:,0])"
      ],
      "metadata": {
        "id": "ku5VPuyqFMwP",
        "colab": {
          "base_uri": "https://localhost:8080/"
        },
        "outputId": "7c9236f3-fd57-46c0-83c7-927e6ace0f3b"
      },
      "execution_count": 15,
      "outputs": [
        {
          "output_type": "stream",
          "name": "stdout",
          "text": [
            "X= [[1.00000e+00 0.00000e+00 0.00000e+00 0.00000e+00]\n",
            " [9.50000e-01 5.00000e-02 0.00000e+00 0.00000e+00]\n",
            " [9.04500e-01 9.00000e-02 5.00000e-03 5.00000e-04]\n",
            " [8.62875e-01 1.21725e-01 1.40000e-02 1.40000e-03]]\n"
          ]
        }
      ]
    },
    {
      "cell_type": "code",
      "source": [
        "# Formación de matrices del sistema matricial X1_t=X0_t(A_t) :\n",
        "X0_t=np.zeros((N-1,4))\n",
        "for i in range (N-1):\n",
        "  X0_t[i]=X[i]\n",
        "print(\"X0_t=\",X0_t)\n",
        "\n",
        "X1_t=np.zeros((N-1,4))\n",
        "for i in range (N-1):\n",
        "  X1_t[i]=X[i+1]\n",
        "print(\"X1_t=\",X1_t)\n"
      ],
      "metadata": {
        "colab": {
          "base_uri": "https://localhost:8080/"
        },
        "id": "dXjKgsUjbM6s",
        "outputId": "836d44ed-4238-4b87-df4a-298d806351e8"
      },
      "execution_count": 16,
      "outputs": [
        {
          "output_type": "stream",
          "name": "stdout",
          "text": [
            "X0_t= [[1.000e+00 0.000e+00 0.000e+00 0.000e+00]\n",
            " [9.500e-01 5.000e-02 0.000e+00 0.000e+00]\n",
            " [9.045e-01 9.000e-02 5.000e-03 5.000e-04]]\n",
            "X1_t= [[9.50000e-01 5.00000e-02 0.00000e+00 0.00000e+00]\n",
            " [9.04500e-01 9.00000e-02 5.00000e-03 5.00000e-04]\n",
            " [8.62875e-01 1.21725e-01 1.40000e-02 1.40000e-03]]\n"
          ]
        }
      ]
    },
    {
      "cell_type": "code",
      "source": [
        "# Mínimos cuadrados no negativos (NNLS):\n",
        "A=np.zeros((4,4))  \n",
        "r=np.zeros((4,1))\n",
        "R=0\n",
        "for i in range (4):\n",
        " nnls(X0_t, X1_t[:,i], maxiter=None)\n",
        " A[i,:]=nnls(X0_t, X1_t[:,i])[0]\n",
        " r[i,0]=nnls(X0_t, X1_t[:,i])[1]\n",
        " R=R+r[i,0]\n",
        "print(\"Matriz de parámetros A=\",A)\n",
        "print(\"r=\",r)\n",
        "print(\"R=\",R)"
      ],
      "metadata": {
        "colab": {
          "base_uri": "https://localhost:8080/"
        },
        "id": "ftF03t7e3sx9",
        "outputId": "0103112d-5999-427d-99e0-6dd25cf62714"
      },
      "execution_count": 17,
      "outputs": [
        {
          "output_type": "stream",
          "name": "stdout",
          "text": [
            "Matriz de parámetros A= [[0.95 0.04 0.   0.  ]\n",
            " [0.05 0.85 0.   0.  ]\n",
            " [0.   0.1  1.   0.  ]\n",
            " [0.   0.01 0.1  0.  ]]\n",
            "r= [[8.32667268e-17]\n",
            " [0.00000000e+00]\n",
            " [3.90312782e-18]\n",
            " [1.35525272e-19]]\n",
            "R= 8.730537993939524e-17\n"
          ]
        }
      ]
    },
    {
      "cell_type": "code",
      "source": [
        "# Grafica de los coeficientes de A_T y A:\n",
        "x=np.linspace(0,num=16,stop=16)\n",
        "y=np.zeros((1,16))\n",
        "y1=np.zeros((1,16))\n",
        "for i in range (4):\n",
        " for j in range (4):\n",
        "   if i==0: \n",
        "    y[0,j]=A_T[i,j]\n",
        "    y1[0,j]=A[i,j]\n",
        "   elif i==1:\n",
        "    y[0,j+4]=A_T[i,j]\n",
        "    y1[0,j+4]=A[i,j]\n",
        "   elif i==2:\n",
        "    y[0,j+8]=A_T[i,j]\n",
        "    y1[0,j+8]=A[i,j]\n",
        "   elif i==3:\n",
        "    y[0,j+12]=A_T[i,j]\n",
        "    y1[0,j+12]=A[i,j]\n",
        "#print(y)\n",
        "#print(y1)\n",
        "\n",
        "fig, ax = plt.subplots()\n",
        "ax.scatter(x, y,label='A_T')\n",
        "ax.scatter(x,y1,label='A')\n",
        "ax.legend(loc='center right')\n",
        "plt.title('Coeficientes de A_T y A')\n",
        "plt.show()"
      ],
      "metadata": {
        "colab": {
          "base_uri": "https://localhost:8080/",
          "height": 281
        },
        "id": "58tSRYjgah8s",
        "outputId": "d8b5ce72-6e49-4171-9e93-3db4a896abad"
      },
      "execution_count": 18,
      "outputs": [
        {
          "output_type": "display_data",
          "data": {
            "text/plain": [
              "<Figure size 432x288 with 1 Axes>"
            ],
            "image/png": "[encoded data removed]"
          },
          "metadata": {
            "needs_background": "light"
          }
        }
      ]
    }
  ]
}